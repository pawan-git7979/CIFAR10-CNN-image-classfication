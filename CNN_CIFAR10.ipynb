{
  "nbformat": 4,
  "nbformat_minor": 0,
  "metadata": {
    "colab": {
      "name": "CNN_CIFAR10.ipynb",
      "provenance": [],
      "authorship_tag": "ABX9TyP9JEcsMx0nF/pZJzB6snW6",
      "include_colab_link": true
    },
    "kernelspec": {
      "name": "python3",
      "display_name": "Python 3"
    },
    "language_info": {
      "name": "python"
    },
    "accelerator": "GPU"
  },
  "cells": [
    {
      "cell_type": "markdown",
      "metadata": {
        "id": "view-in-github",
        "colab_type": "text"
      },
      "source": [
        "<a href=\"https://colab.research.google.com/github/pawan-git7979/CIFAR10-CNN-image-classfication/blob/main/CNN_CIFAR10.ipynb\" target=\"_parent\"><img src=\"https://colab.research.google.com/assets/colab-badge.svg\" alt=\"Open In Colab\"/></a>"
      ]
    },
    {
      "cell_type": "code",
      "metadata": {
        "colab": {
          "base_uri": "https://localhost:8080/"
        },
        "id": "jHIuorZvp6zy",
        "outputId": "53664dd9-632a-45c6-dc1e-f8d1f0791e28"
      },
      "source": [
        "print(\"hello world\")"
      ],
      "execution_count": 1,
      "outputs": [
        {
          "output_type": "stream",
          "text": [
            "hello world\n"
          ],
          "name": "stdout"
        }
      ]
    },
    {
      "cell_type": "markdown",
      "metadata": {
        "id": "GZplFVG0qm52"
      },
      "source": [
        "Small Image Classification Using Convolutional Neural Network (CNN)\n",
        "\n"
      ]
    },
    {
      "cell_type": "code",
      "metadata": {
        "id": "7w9eUC4Dqitt"
      },
      "source": [
        "import tensorflow as tf\n",
        "from tensorflow.keras import datasets, layers , models\n",
        "import matplotlib.pyplot as plt\n",
        "import numpy as np"
      ],
      "execution_count": 4,
      "outputs": []
    },
    {
      "cell_type": "markdown",
      "metadata": {
        "id": "2sxTQLp0rSKY"
      },
      "source": [
        "Load Dataset\n"
      ]
    },
    {
      "cell_type": "code",
      "metadata": {
        "colab": {
          "base_uri": "https://localhost:8080/"
        },
        "id": "JxoWho_drVH-",
        "outputId": "486eef97-5dc6-43fa-89ee-c36da531bd56"
      },
      "source": [
        "(X_train , y_train ),(X_test , y_test) = datasets.cifar10.load_data()\n",
        "X_train.shape"
      ],
      "execution_count": 5,
      "outputs": [
        {
          "output_type": "stream",
          "text": [
            "Downloading data from https://www.cs.toronto.edu/~kriz/cifar-10-python.tar.gz\n",
            "170500096/170498071 [==============================] - 11s 0us/step\n"
          ],
          "name": "stdout"
        },
        {
          "output_type": "execute_result",
          "data": {
            "text/plain": [
              "(50000, 32, 32, 3)"
            ]
          },
          "metadata": {
            "tags": []
          },
          "execution_count": 5
        }
      ]
    },
    {
      "cell_type": "code",
      "metadata": {
        "colab": {
          "base_uri": "https://localhost:8080/"
        },
        "id": "EXstsY--rn5z",
        "outputId": "7f901cc6-5f98-4f71-b2e9-02a2e3be9e4a"
      },
      "source": [
        "X_test.shape"
      ],
      "execution_count": 6,
      "outputs": [
        {
          "output_type": "execute_result",
          "data": {
            "text/plain": [
              "(10000, 32, 32, 3)"
            ]
          },
          "metadata": {
            "tags": []
          },
          "execution_count": 6
        }
      ]
    },
    {
      "cell_type": "code",
      "metadata": {
        "colab": {
          "base_uri": "https://localhost:8080/"
        },
        "id": "DELFXzwgrzfY",
        "outputId": "c8b6a0cc-0722-4bfd-8a5c-274ecc10d88c"
      },
      "source": [
        "y_train.shape"
      ],
      "execution_count": 7,
      "outputs": [
        {
          "output_type": "execute_result",
          "data": {
            "text/plain": [
              "(50000, 1)"
            ]
          },
          "metadata": {
            "tags": []
          },
          "execution_count": 7
        }
      ]
    },
    {
      "cell_type": "code",
      "metadata": {
        "colab": {
          "base_uri": "https://localhost:8080/"
        },
        "id": "5k97V8Asr3yV",
        "outputId": "8f9e021d-1eb2-419b-c153-a217d0bf4034"
      },
      "source": [
        "y_train[:5]"
      ],
      "execution_count": 8,
      "outputs": [
        {
          "output_type": "execute_result",
          "data": {
            "text/plain": [
              "array([[6],\n",
              "       [9],\n",
              "       [9],\n",
              "       [4],\n",
              "       [1]], dtype=uint8)"
            ]
          },
          "metadata": {
            "tags": []
          },
          "execution_count": 8
        }
      ]
    },
    {
      "cell_type": "code",
      "metadata": {
        "id": "Tw5mguEOr6yY"
      },
      "source": [
        "y_train = y_train.reshape(-1 , )\n",
        "y_test = y_test.reshape(-1 ,)"
      ],
      "execution_count": 9,
      "outputs": []
    },
    {
      "cell_type": "code",
      "metadata": {
        "colab": {
          "base_uri": "https://localhost:8080/"
        },
        "id": "9xEN_5zUsFTJ",
        "outputId": "d546efb2-8eb0-4e91-983c-12b41221683c"
      },
      "source": [
        "y_train[:5]"
      ],
      "execution_count": 10,
      "outputs": [
        {
          "output_type": "execute_result",
          "data": {
            "text/plain": [
              "array([6, 9, 9, 4, 1], dtype=uint8)"
            ]
          },
          "metadata": {
            "tags": []
          },
          "execution_count": 10
        }
      ]
    },
    {
      "cell_type": "code",
      "metadata": {
        "id": "mk0vbBprsHv3"
      },
      "source": [
        "classes = [\"airplane\",\"automobile\",\"bird\",\"cat\",\"deer\",\"dog\",\"frog\",\"horse\",\"ship\",\"truck\"]\n"
      ],
      "execution_count": 11,
      "outputs": []
    },
    {
      "cell_type": "markdown",
      "metadata": {
        "id": "HBmrzTGtsWsm"
      },
      "source": [
        "Let's Plot some images to see what they are"
      ]
    },
    {
      "cell_type": "code",
      "metadata": {
        "id": "f4lSV8nqscbo"
      },
      "source": [
        "def plot_sample(X , y , index):\n",
        "  plt.figure(figsize=(15,2))\n",
        "  plt.imshow(X[index])\n",
        "  plt.xlabel(classes[y[index]])\n",
        "  "
      ],
      "execution_count": 12,
      "outputs": []
    },
    {
      "cell_type": "code",
      "metadata": {
        "colab": {
          "base_uri": "https://localhost:8080/",
          "height": 173
        },
        "id": "ZYjZXxVQs9Rr",
        "outputId": "bd00fa5a-6a06-4539-de6e-cb2a761757a5"
      },
      "source": [
        "plot_sample(X_train , y_train , 0)"
      ],
      "execution_count": 13,
      "outputs": [
        {
          "output_type": "display_data",
          "data": {
            "image/png": "[encoded data removed]",
            "text/plain": [
              "<Figure size 1080x144 with 1 Axes>"
            ]
          },
          "metadata": {
            "tags": [],
            "needs_background": "light"
          }
        }
      ]
    },
    {
      "cell_type": "code",
      "metadata": {
        "colab": {
          "base_uri": "https://localhost:8080/",
          "height": 173
        },
        "id": "bGpgobg6tBYr",
        "outputId": "fb185a3a-8b34-4bf2-a089-4975b1c21b43"
      },
      "source": [
        "plot_sample(X_train , y_train , 4)"
      ],
      "execution_count": 14,
      "outputs": [
        {
          "output_type": "display_data",
          "data": {
            "image/png": "[encoded data removed]",
            "text/plain": [
              "<Figure size 1080x144 with 1 Axes>"
            ]
          },
          "metadata": {
            "tags": [],
            "needs_background": "light"
          }
        }
      ]
    },
    {
      "cell_type": "markdown",
      "metadata": {
        "id": "UYNMjFxjtOP3"
      },
      "source": [
        "Normalizing the training Data"
      ]
    },
    {
      "cell_type": "code",
      "metadata": {
        "id": "kztNsMXctTiM"
      },
      "source": [
        "X_train = X_train/255.0\n",
        "X_test = X_test/255.0"
      ],
      "execution_count": 15,
      "outputs": []
    },
    {
      "cell_type": "code",
      "metadata": {
        "colab": {
          "base_uri": "https://localhost:8080/"
        },
        "id": "l86tw-mstdxS",
        "outputId": "7a0158ce-cddd-462f-9757-a466817e4981"
      },
      "source": [
        "X_train[0]"
      ],
      "execution_count": 16,
      "outputs": [
        {
          "output_type": "execute_result",
          "data": {
            "text/plain": [
              "array([[[0.23137255, 0.24313725, 0.24705882],\n",
              "        [0.16862745, 0.18039216, 0.17647059],\n",
              "        [0.19607843, 0.18823529, 0.16862745],\n",
              "        ...,\n",
              "        [0.61960784, 0.51764706, 0.42352941],\n",
              "        [0.59607843, 0.49019608, 0.4       ],\n",
              "        [0.58039216, 0.48627451, 0.40392157]],\n",
              "\n",
              "       [[0.0627451 , 0.07843137, 0.07843137],\n",
              "        [0.        , 0.        , 0.        ],\n",
              "        [0.07058824, 0.03137255, 0.        ],\n",
              "        ...,\n",
              "        [0.48235294, 0.34509804, 0.21568627],\n",
              "        [0.46666667, 0.3254902 , 0.19607843],\n",
              "        [0.47843137, 0.34117647, 0.22352941]],\n",
              "\n",
              "       [[0.09803922, 0.09411765, 0.08235294],\n",
              "        [0.0627451 , 0.02745098, 0.        ],\n",
              "        [0.19215686, 0.10588235, 0.03137255],\n",
              "        ...,\n",
              "        [0.4627451 , 0.32941176, 0.19607843],\n",
              "        [0.47058824, 0.32941176, 0.19607843],\n",
              "        [0.42745098, 0.28627451, 0.16470588]],\n",
              "\n",
              "       ...,\n",
              "\n",
              "       [[0.81568627, 0.66666667, 0.37647059],\n",
              "        [0.78823529, 0.6       , 0.13333333],\n",
              "        [0.77647059, 0.63137255, 0.10196078],\n",
              "        ...,\n",
              "        [0.62745098, 0.52156863, 0.2745098 ],\n",
              "        [0.21960784, 0.12156863, 0.02745098],\n",
              "        [0.20784314, 0.13333333, 0.07843137]],\n",
              "\n",
              "       [[0.70588235, 0.54509804, 0.37647059],\n",
              "        [0.67843137, 0.48235294, 0.16470588],\n",
              "        [0.72941176, 0.56470588, 0.11764706],\n",
              "        ...,\n",
              "        [0.72156863, 0.58039216, 0.36862745],\n",
              "        [0.38039216, 0.24313725, 0.13333333],\n",
              "        [0.3254902 , 0.20784314, 0.13333333]],\n",
              "\n",
              "       [[0.69411765, 0.56470588, 0.45490196],\n",
              "        [0.65882353, 0.50588235, 0.36862745],\n",
              "        [0.70196078, 0.55686275, 0.34117647],\n",
              "        ...,\n",
              "        [0.84705882, 0.72156863, 0.54901961],\n",
              "        [0.59215686, 0.4627451 , 0.32941176],\n",
              "        [0.48235294, 0.36078431, 0.28235294]]])"
            ]
          },
          "metadata": {
            "tags": []
          },
          "execution_count": 16
        }
      ]
    },
    {
      "cell_type": "markdown",
      "metadata": {
        "id": "rjt_IL-vtmPF"
      },
      "source": [
        "Building Simple Artificial Neural Network for image classfication"
      ]
    },
    {
      "cell_type": "code",
      "metadata": {
        "colab": {
          "base_uri": "https://localhost:8080/"
        },
        "id": "tsHoePlAtsjt",
        "outputId": "be799788-cb02-4d0c-cc49-c4611fada4eb"
      },
      "source": [
        "# ann = models.Sequential([\n",
        "#               layers.Flatten(input_shape=(32,32,3)),\n",
        "#               layers.Dense(3000 , activation='relu'),\n",
        "#               layers.Dense(1000 , activation='relu'),\n",
        "#               layers.Dense(10 , activation='sigmoid')\n",
        "# ])\n",
        "# ann.compile(optimizer='SGD',\n",
        "#             loss='sparse_categorial_crossentropy',\n",
        "#             metrics=['accuracy'])\n",
        "# ann.fit(X_train , y_train , epochs=7)\n",
        "\n",
        "ann = models.Sequential([\n",
        "        layers.Flatten(input_shape=(32,32,3)),\n",
        "        layers.Dense(3000, activation='relu'),\n",
        "        layers.Dense(1000, activation='relu'),\n",
        "        layers.Dense(10, activation='sigmoid')    \n",
        "    ])\n",
        "\n",
        "ann.compile(optimizer='SGD',\n",
        "              loss='sparse_categorical_crossentropy',\n",
        "              metrics=['accuracy'])\n",
        "\n",
        "ann.fit(X_train, y_train, epochs=7)\n"
      ],
      "execution_count": 19,
      "outputs": [
        {
          "output_type": "stream",
          "text": [
            "Epoch 1/7\n",
            "1563/1563 [==============================] - 12s 6ms/step - loss: 1.9256 - accuracy: 0.3073\n",
            "Epoch 2/7\n",
            "1563/1563 [==============================] - 9s 6ms/step - loss: 1.6445 - accuracy: 0.4201\n",
            "Epoch 3/7\n",
            "1563/1563 [==============================] - 9s 6ms/step - loss: 1.5535 - accuracy: 0.4518\n",
            "Epoch 4/7\n",
            "1563/1563 [==============================] - 9s 6ms/step - loss: 1.4873 - accuracy: 0.4783\n",
            "Epoch 5/7\n",
            "1563/1563 [==============================] - 9s 6ms/step - loss: 1.4465 - accuracy: 0.4922\n",
            "Epoch 6/7\n",
            "1563/1563 [==============================] - 9s 6ms/step - loss: 1.3989 - accuracy: 0.5071\n",
            "Epoch 7/7\n",
            "1563/1563 [==============================] - 9s 6ms/step - loss: 1.3525 - accuracy: 0.5247\n"
          ],
          "name": "stdout"
        },
        {
          "output_type": "execute_result",
          "data": {
            "text/plain": [
              "<tensorflow.python.keras.callbacks.History at 0x7fc34f6cc350>"
            ]
          },
          "metadata": {
            "tags": []
          },
          "execution_count": 19
        }
      ]
    },
    {
      "cell_type": "markdown",
      "metadata": {
        "id": "1DBD_sVHv1ya"
      },
      "source": [
        "We can clearly see that the accuracy at the end of 7 epochs is only 52%"
      ]
    },
    {
      "cell_type": "markdown",
      "metadata": {
        "id": "Gdze4fo9wBOy"
      },
      "source": [
        "We need to improve the accuracy"
      ]
    },
    {
      "cell_type": "code",
      "metadata": {
        "colab": {
          "base_uri": "https://localhost:8080/"
        },
        "id": "DhgxqZWlwD67",
        "outputId": "c5a1bb2e-ffc9-4ca3-8ba4-cb0ef6f408ad"
      },
      "source": [
        "from sklearn.metrics import confusion_matrix , classification_report\n",
        "import numpy as np\n",
        "y_pred =  ann.predict(X_test)\n",
        "y_pred_class = [np.argmax(element) for element in y_pred]\n",
        "print(\"Classification Report: \\n\", classification_report(y_test, y_pred_class))"
      ],
      "execution_count": 25,
      "outputs": [
        {
          "output_type": "stream",
          "text": [
            "Classification Report: \n",
            "               precision    recall  f1-score   support\n",
            "\n",
            "           0       0.51      0.64      0.57      1000\n",
            "           1       0.66      0.62      0.64      1000\n",
            "           2       0.44      0.30      0.36      1000\n",
            "           3       0.37      0.35      0.36      1000\n",
            "           4       0.40      0.43      0.42      1000\n",
            "           5       0.43      0.40      0.42      1000\n",
            "           6       0.69      0.25      0.37      1000\n",
            "           7       0.37      0.78      0.50      1000\n",
            "           8       0.63      0.62      0.62      1000\n",
            "           9       0.67      0.48      0.56      1000\n",
            "\n",
            "    accuracy                           0.49     10000\n",
            "   macro avg       0.52      0.49      0.48     10000\n",
            "weighted avg       0.52      0.49      0.48     10000\n",
            "\n"
          ],
          "name": "stdout"
        }
      ]
    },
    {
      "cell_type": "markdown",
      "metadata": {
        "id": "2uc0mr3Yx6YX"
      },
      "source": [
        "Now let us build a convolutional neural network to train our images\n"
      ]
    },
    {
      "cell_type": "code",
      "metadata": {
        "id": "uqc9xkV8x7Kn"
      },
      "source": [
        "cnn = models.Sequential([\n",
        "                         layers.Conv2D(filters=32 , kernel_size=(3, 3) , activation='relu' , input_shape=(32,32,3)),\n",
        "                         layers.MaxPooling2D((2, 2)),\n",
        "\n",
        "                         layers.Conv2D(filters=128 ,kernel_size=(3, 3) , activation='relu'),\n",
        "                         layers.MaxPooling2D((2,2)),\n",
        "\n",
        "                         layers.Flatten(),\n",
        "                         layers.Dense(64 , activation='relu'),\n",
        "                         layers.Dense(10 , activation='softmax')\n",
        "                                \n",
        "])"
      ],
      "execution_count": 33,
      "outputs": []
    },
    {
      "cell_type": "code",
      "metadata": {
        "id": "rZYMgAL5y0UR"
      },
      "source": [
        "cnn.compile(optimizer='adam' , \n",
        "            loss='sparse_categorical_crossentropy',\n",
        "            metrics=['accuracy'])\n"
      ],
      "execution_count": 37,
      "outputs": []
    },
    {
      "cell_type": "code",
      "metadata": {
        "colab": {
          "base_uri": "https://localhost:8080/"
        },
        "id": "qjmJFU0Bz-Jq",
        "outputId": "8cdbceed-873d-4bb2-dd4a-c8fa56fb9682"
      },
      "source": [
        "cnn.fit(X_train , y_train , epochs=15)"
      ],
      "execution_count": 38,
      "outputs": [
        {
          "output_type": "stream",
          "text": [
            "Epoch 1/15\n",
            "1563/1563 [==============================] - 38s 7ms/step - loss: 1.7443 - accuracy: 0.3656\n",
            "Epoch 2/15\n",
            "1563/1563 [==============================] - 10s 7ms/step - loss: 1.1404 - accuracy: 0.5971\n",
            "Epoch 3/15\n",
            "1563/1563 [==============================] - 10s 7ms/step - loss: 0.9870 - accuracy: 0.6562\n",
            "Epoch 4/15\n",
            "1563/1563 [==============================] - 10s 7ms/step - loss: 0.8769 - accuracy: 0.6961\n",
            "Epoch 5/15\n",
            "1563/1563 [==============================] - 10s 7ms/step - loss: 0.7977 - accuracy: 0.7252\n",
            "Epoch 6/15\n",
            "1563/1563 [==============================] - 10s 7ms/step - loss: 0.7316 - accuracy: 0.7493\n",
            "Epoch 7/15\n",
            "1563/1563 [==============================] - 10s 7ms/step - loss: 0.6871 - accuracy: 0.7605\n",
            "Epoch 8/15\n",
            "1563/1563 [==============================] - 10s 7ms/step - loss: 0.6438 - accuracy: 0.7784\n",
            "Epoch 9/15\n",
            "1563/1563 [==============================] - 10s 7ms/step - loss: 0.6036 - accuracy: 0.7886\n",
            "Epoch 10/15\n",
            "1563/1563 [==============================] - 10s 7ms/step - loss: 0.5550 - accuracy: 0.8075\n",
            "Epoch 11/15\n",
            "1563/1563 [==============================] - 10s 7ms/step - loss: 0.5158 - accuracy: 0.8198\n",
            "Epoch 12/15\n",
            "1563/1563 [==============================] - 10s 7ms/step - loss: 0.4774 - accuracy: 0.8351\n",
            "Epoch 13/15\n",
            "1563/1563 [==============================] - 10s 7ms/step - loss: 0.4387 - accuracy: 0.8457\n",
            "Epoch 14/15\n",
            "1563/1563 [==============================] - 10s 7ms/step - loss: 0.4130 - accuracy: 0.8523\n",
            "Epoch 15/15\n",
            "1563/1563 [==============================] - 10s 7ms/step - loss: 0.3887 - accuracy: 0.8641\n"
          ],
          "name": "stdout"
        },
        {
          "output_type": "execute_result",
          "data": {
            "text/plain": [
              "<tensorflow.python.keras.callbacks.History at 0x7fc3458d6c90>"
            ]
          },
          "metadata": {
            "tags": []
          },
          "execution_count": 38
        }
      ]
    },
    {
      "cell_type": "markdown",
      "metadata": {
        "id": "QIFSuszm1QBd"
      },
      "source": [
        "With CNN, at the end 5 epochs, accuracy was at around 70.28% which is a significant improvement over ANN. CNN's are best for image classification and gives superb accuracy. Also computation is much less compared to simple ANN as maxpooling reduces the image dimensions while still preserving the features"
      ]
    },
    {
      "cell_type": "code",
      "metadata": {
        "colab": {
          "base_uri": "https://localhost:8080/"
        },
        "id": "8rDXc20h1Q9f",
        "outputId": "6937a993-8436-4a53-e4e3-3dc34ace4c73"
      },
      "source": [
        "cnn.evaluate(X_test , y_test)"
      ],
      "execution_count": 39,
      "outputs": [
        {
          "output_type": "stream",
          "text": [
            "313/313 [==============================] - 1s 4ms/step - loss: 1.0844 - accuracy: 0.6959\n"
          ],
          "name": "stdout"
        },
        {
          "output_type": "execute_result",
          "data": {
            "text/plain": [
              "[1.0843852758407593, 0.695900022983551]"
            ]
          },
          "metadata": {
            "tags": []
          },
          "execution_count": 39
        }
      ]
    },
    {
      "cell_type": "code",
      "metadata": {
        "colab": {
          "base_uri": "https://localhost:8080/"
        },
        "id": "CCtjlush1XWq",
        "outputId": "f1f6bc00-8ba0-4182-88f8-46db18df15d0"
      },
      "source": [
        "y_pred = cnn.predict(X_test)\n",
        "y_pred[:5]"
      ],
      "execution_count": 40,
      "outputs": [
        {
          "output_type": "execute_result",
          "data": {
            "text/plain": [
              "array([[2.5412763e-05, 1.4317579e-06, 3.2874788e-04, 9.7374177e-01,\n",
              "        1.7145815e-03, 1.7707393e-02, 6.4726421e-03, 1.1859667e-06,\n",
              "        4.8842176e-06, 1.9385895e-06],\n",
              "       [5.3836295e-04, 2.9911708e-02, 4.1914230e-10, 6.2940840e-11,\n",
              "        1.2555148e-15, 7.0232724e-15, 3.2090126e-11, 4.8422826e-18,\n",
              "        9.6950960e-01, 4.0343770e-05],\n",
              "       [4.6191418e-01, 7.8557163e-02, 2.1502913e-03, 5.4090987e-03,\n",
              "        7.4326075e-05, 9.3579902e-06, 2.1830183e-05, 1.0331739e-03,\n",
              "        4.4806165e-01, 2.7689131e-03],\n",
              "       [9.9419034e-01, 2.9775646e-04, 2.6895115e-03, 7.9144782e-05,\n",
              "        8.5444459e-05, 4.6183480e-08, 6.5581887e-08, 4.4225956e-08,\n",
              "        2.6577506e-03, 7.1579559e-10],\n",
              "       [2.0861826e-08, 4.5361717e-10, 8.1305177e-04, 9.0261754e-03,\n",
              "        9.5020723e-01, 8.7949383e-04, 3.9073542e-02, 4.7320640e-07,\n",
              "        3.7523108e-08, 5.6114371e-09]], dtype=float32)"
            ]
          },
          "metadata": {
            "tags": []
          },
          "execution_count": 40
        }
      ]
    },
    {
      "cell_type": "code",
      "metadata": {
        "colab": {
          "base_uri": "https://localhost:8080/"
        },
        "id": "freMG2081kYW",
        "outputId": "2a8008aa-3b42-450c-9a26-762356e30a37"
      },
      "source": [
        "y_classes = [np.argmax(element) for element in y_pred]\n",
        "y_classes[:5]"
      ],
      "execution_count": 42,
      "outputs": [
        {
          "output_type": "execute_result",
          "data": {
            "text/plain": [
              "[3, 8, 0, 0, 4]"
            ]
          },
          "metadata": {
            "tags": []
          },
          "execution_count": 42
        }
      ]
    },
    {
      "cell_type": "code",
      "metadata": {
        "colab": {
          "base_uri": "https://localhost:8080/"
        },
        "id": "Lx1E2MGR1tqQ",
        "outputId": "88b01a73-b8e7-4dc3-89f9-8c12199722a6"
      },
      "source": [
        "y_test[:5]"
      ],
      "execution_count": 43,
      "outputs": [
        {
          "output_type": "execute_result",
          "data": {
            "text/plain": [
              "array([3, 8, 8, 0, 6], dtype=uint8)"
            ]
          },
          "metadata": {
            "tags": []
          },
          "execution_count": 43
        }
      ]
    },
    {
      "cell_type": "code",
      "metadata": {
        "colab": {
          "base_uri": "https://localhost:8080/",
          "height": 173
        },
        "id": "BpbYqK_b10qE",
        "outputId": "c62a7162-7ff3-4d9f-e9b0-48e0d6c826d5"
      },
      "source": [
        "plot_sample(X_test , y_test , 3)"
      ],
      "execution_count": 44,
      "outputs": [
        {
          "output_type": "display_data",
          "data": {
            "image/png": "[encoded data removed]",
            "text/plain": [
              "<Figure size 1080x144 with 1 Axes>"
            ]
          },
          "metadata": {
            "tags": [],
            "needs_background": "light"
          }
        }
      ]
    },
    {
      "cell_type": "code",
      "metadata": {
        "colab": {
          "base_uri": "https://localhost:8080/",
          "height": 35
        },
        "id": "uu5yqha31-_q",
        "outputId": "888a9a7b-f6f9-416f-eece-67702b6d5c0e"
      },
      "source": [
        "classes[y_classes[3]]"
      ],
      "execution_count": 45,
      "outputs": [
        {
          "output_type": "execute_result",
          "data": {
            "application/vnd.google.colaboratory.intrinsic+json": {
              "type": "string"
            },
            "text/plain": [
              "'airplane'"
            ]
          },
          "metadata": {
            "tags": []
          },
          "execution_count": 45
        }
      ]
    },
    {
      "cell_type": "code",
      "metadata": {
        "colab": {
          "base_uri": "https://localhost:8080/"
        },
        "id": "9jnBdrCK2erw",
        "outputId": "faf3a823-fbca-4891-b837-dfd7e2059fe7"
      },
      "source": [
        "from sklearn.metrics import confusion_matrix , classification_report\n",
        "import numpy as np\n",
        "print(\"Classfication Report;\\n\" ,classification_report(y_test , y_classes))"
      ],
      "execution_count": 47,
      "outputs": [
        {
          "output_type": "stream",
          "text": [
            "Classfication Report;\n",
            "               precision    recall  f1-score   support\n",
            "\n",
            "           0       0.73      0.76      0.74      1000\n",
            "           1       0.75      0.88      0.81      1000\n",
            "           2       0.61      0.57      0.59      1000\n",
            "           3       0.51      0.52      0.51      1000\n",
            "           4       0.58      0.74      0.65      1000\n",
            "           5       0.59      0.66      0.62      1000\n",
            "           6       0.87      0.66      0.75      1000\n",
            "           7       0.78      0.70      0.74      1000\n",
            "           8       0.84      0.72      0.78      1000\n",
            "           9       0.82      0.74      0.78      1000\n",
            "\n",
            "    accuracy                           0.70     10000\n",
            "   macro avg       0.71      0.70      0.70     10000\n",
            "weighted avg       0.71      0.70      0.70     10000\n",
            "\n"
          ],
          "name": "stdout"
        }
      ]
    },
    {
      "cell_type": "code",
      "metadata": {
        "id": "FxY9Sblx2oVg"
      },
      "source": [
        ""
      ],
      "execution_count": null,
      "outputs": []
    }
  ]
}